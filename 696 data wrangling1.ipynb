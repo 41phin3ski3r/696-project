{
 "cells": [
  {
   "cell_type": "code",
   "execution_count": 2,
   "id": "c536f738-2f2a-471c-98c0-9bf86acb6e29",
   "metadata": {
    "tags": []
   },
   "outputs": [],
   "source": [
    "import geopandas as gpd\n",
    "import pandas as pd\n",
    "import numpy as npwa\n",
    "import plotly.express as px\n",
    "import plotly as pt"
   ]
  },
  {
   "cell_type": "code",
   "execution_count": 3,
   "id": "b8f3f6bb-444b-4cbd-8fb3-819efd370635",
   "metadata": {},
   "outputs": [],
   "source": [
    "data = gpd.read_file(r\"C:\\Users\\p7j5p\\Documents\\Paul's reports\\696\\Drinking_Water_Quality_Distribution_Monitoring_Data.csv\")"
   ]
  },
  {
   "cell_type": "code",
   "execution_count": 45,
   "id": "1b581ba7-6457-453c-94a3-cfa50c872bd3",
   "metadata": {
    "tags": []
   },
   "outputs": [],
   "source": [
    "sites = gpd.read_file(r\"C:\\Users\\p7j5p\\Documents\\Paul's reports\\696 documents\\OpenData_Distribution_Water_Quality_Sampling_Sites_Updated_2021-0618.csv\")"
   ]
  },
  {
   "cell_type": "code",
   "execution_count": 4,
   "id": "695ede28-1deb-4672-b271-95ae88715a60",
   "metadata": {},
   "outputs": [],
   "source": [
    "data['Residual Free Chlorine (mg/L)'] = pd.to_numeric(data['Residual Free Chlorine (mg/L)'])\n",
    "data['Turbidity (NTU)'] = pd.to_numeric(data['Turbidity (NTU)'], errors='coerce')\n",
    "data['Fluoride (mg/L)'] = pd.to_numeric(data['Fluoride (mg/L)'], errors='coerce')\n",
    "data['Coliform (Quanti-Tray) (MPN /100mL)'] = pd.to_numeric(data['Coliform (Quanti-Tray) (MPN /100mL)'], errors='coerce')\n",
    "data[\"Sample Date\"] = pd.to_datetime(data['Sample Date'])"
   ]
  },
  {
   "cell_type": "code",
   "execution_count": 53,
   "id": "27e3d2a6-7a4a-465a-bb16-5e936843c045",
   "metadata": {
    "tags": []
   },
   "outputs": [],
   "source": [
    "joined_data1 = pd.merge(sites, data, on='Sample Site', how='right')"
   ]
  },
  {
   "cell_type": "code",
   "execution_count": 30,
   "id": "f83b4c85-066c-4de1-8944-e8efe9d195de",
   "metadata": {
    "tags": []
   },
   "outputs": [
    {
     "data": {
      "text/html": [
       "<div>\n",
       "<style scoped>\n",
       "    .dataframe tbody tr th:only-of-type {\n",
       "        vertical-align: middle;\n",
       "    }\n",
       "\n",
       "    .dataframe tbody tr th {\n",
       "        vertical-align: top;\n",
       "    }\n",
       "\n",
       "    .dataframe thead th {\n",
       "        text-align: right;\n",
       "    }\n",
       "</style>\n",
       "<table border=\"1\" class=\"dataframe\">\n",
       "  <thead>\n",
       "    <tr style=\"text-align: right;\">\n",
       "      <th></th>\n",
       "      <th>Sample Site</th>\n",
       "      <th>Sample Station (SS) - Location Description</th>\n",
       "      <th>X - Coordinate</th>\n",
       "      <th>Y - Coordinate</th>\n",
       "      <th>geometry_x</th>\n",
       "      <th>Sample Number</th>\n",
       "      <th>Sample Date</th>\n",
       "      <th>Sample Time</th>\n",
       "      <th>Sample class</th>\n",
       "      <th>Residual Free Chlorine (mg/L)</th>\n",
       "      <th>Turbidity (NTU)</th>\n",
       "      <th>Fluoride (mg/L)</th>\n",
       "      <th>Coliform (Quanti-Tray) (MPN /100mL)</th>\n",
       "      <th>E.coli(Quanti-Tray) (MPN/100mL)</th>\n",
       "      <th>geometry_y</th>\n",
       "    </tr>\n",
       "  </thead>\n",
       "  <tbody>\n",
       "    <tr>\n",
       "      <th>count</th>\n",
       "      <td>110012</td>\n",
       "      <td>110012</td>\n",
       "      <td>110012</td>\n",
       "      <td>110012</td>\n",
       "      <td>0</td>\n",
       "      <td>110012</td>\n",
       "      <td>110012</td>\n",
       "      <td>110012</td>\n",
       "      <td>110012</td>\n",
       "      <td>110012</td>\n",
       "      <td>110012</td>\n",
       "      <td>110012</td>\n",
       "      <td>110012</td>\n",
       "      <td>110012</td>\n",
       "      <td>0</td>\n",
       "    </tr>\n",
       "    <tr>\n",
       "      <th>unique</th>\n",
       "      <td>398</td>\n",
       "      <td>398</td>\n",
       "      <td>395</td>\n",
       "      <td>395</td>\n",
       "      <td>0</td>\n",
       "      <td>109776</td>\n",
       "      <td>2558</td>\n",
       "      <td>519</td>\n",
       "      <td>4</td>\n",
       "      <td>154</td>\n",
       "      <td>363</td>\n",
       "      <td>82</td>\n",
       "      <td>46</td>\n",
       "      <td>4</td>\n",
       "      <td>0</td>\n",
       "    </tr>\n",
       "    <tr>\n",
       "      <th>top</th>\n",
       "      <td>1S03B</td>\n",
       "      <td>SS - Shaft 3B of City Tunnel No.3 - W/S Jerome...</td>\n",
       "      <td>1013921</td>\n",
       "      <td>259223</td>\n",
       "      <td>NaN</td>\n",
       "      <td>201728260</td>\n",
       "      <td>08/05/2015</td>\n",
       "      <td>09:11</td>\n",
       "      <td>Compliance</td>\n",
       "      <td>0.62</td>\n",
       "      <td>0.72</td>\n",
       "      <td></td>\n",
       "      <td>&lt;1</td>\n",
       "      <td>&lt;1</td>\n",
       "      <td>NaN</td>\n",
       "    </tr>\n",
       "    <tr>\n",
       "      <th>freq</th>\n",
       "      <td>2558</td>\n",
       "      <td>2558</td>\n",
       "      <td>4694</td>\n",
       "      <td>4694</td>\n",
       "      <td>NaN</td>\n",
       "      <td>2</td>\n",
       "      <td>63</td>\n",
       "      <td>505</td>\n",
       "      <td>68114</td>\n",
       "      <td>2242</td>\n",
       "      <td>2734</td>\n",
       "      <td>95702</td>\n",
       "      <td>109567</td>\n",
       "      <td>109987</td>\n",
       "      <td>NaN</td>\n",
       "    </tr>\n",
       "  </tbody>\n",
       "</table>\n",
       "</div>"
      ],
      "text/plain": [
       "       Sample Site         Sample Station (SS) - Location Description  \\\n",
       "count       110012                                             110012   \n",
       "unique         398                                                398   \n",
       "top          1S03B  SS - Shaft 3B of City Tunnel No.3 - W/S Jerome...   \n",
       "freq          2558                                               2558   \n",
       "\n",
       "       X - Coordinate Y - Coordinate geometry_x Sample Number Sample Date  \\\n",
       "count          110012         110012          0        110012      110012   \n",
       "unique            395            395          0        109776        2558   \n",
       "top           1013921         259223        NaN     201728260  08/05/2015   \n",
       "freq             4694           4694        NaN             2          63   \n",
       "\n",
       "       Sample Time Sample class Residual Free Chlorine (mg/L) Turbidity (NTU)  \\\n",
       "count       110012       110012                        110012          110012   \n",
       "unique         519            4                           154             363   \n",
       "top          09:11   Compliance                          0.62            0.72   \n",
       "freq           505        68114                          2242            2734   \n",
       "\n",
       "       Fluoride (mg/L) Coliform (Quanti-Tray) (MPN /100mL)  \\\n",
       "count           110012                              110012   \n",
       "unique              82                                  46   \n",
       "top                                                     <1   \n",
       "freq             95702                              109567   \n",
       "\n",
       "       E.coli(Quanti-Tray) (MPN/100mL) geometry_y  \n",
       "count                           110012          0  \n",
       "unique                               4          0  \n",
       "top                                 <1        NaN  \n",
       "freq                            109987        NaN  "
      ]
     },
     "execution_count": 30,
     "metadata": {},
     "output_type": "execute_result"
    }
   ],
   "source": [
    "joined_data1.describe().round(2)"
   ]
  },
  {
   "cell_type": "code",
   "execution_count": 89,
   "id": "0b8bcda3-a842-4590-afa6-364d8a39506b",
   "metadata": {},
   "outputs": [
    {
     "data": {
      "text/html": [
       "<div>\n",
       "<style scoped>\n",
       "    .dataframe tbody tr th:only-of-type {\n",
       "        vertical-align: middle;\n",
       "    }\n",
       "\n",
       "    .dataframe tbody tr th {\n",
       "        vertical-align: top;\n",
       "    }\n",
       "\n",
       "    .dataframe thead th {\n",
       "        text-align: right;\n",
       "    }\n",
       "</style>\n",
       "<table border=\"1\" class=\"dataframe\">\n",
       "  <thead>\n",
       "    <tr style=\"text-align: right;\">\n",
       "      <th></th>\n",
       "      <th>Sample Number</th>\n",
       "      <th>Sample Date</th>\n",
       "      <th>Sample Time</th>\n",
       "      <th>Sample Site</th>\n",
       "      <th>Sample class</th>\n",
       "      <th>Residual Free Chlorine (mg/L)</th>\n",
       "      <th>Turbidity (NTU)</th>\n",
       "      <th>Fluoride (mg/L)</th>\n",
       "      <th>Coliform (Quanti-Tray) (MPN /100mL)</th>\n",
       "      <th>E.coli(Quanti-Tray) (MPN/100mL)</th>\n",
       "      <th>geometry</th>\n",
       "    </tr>\n",
       "  </thead>\n",
       "  <tbody>\n",
       "    <tr>\n",
       "      <th>0</th>\n",
       "      <td>201500023</td>\n",
       "      <td>2015-01-01</td>\n",
       "      <td>12:19</td>\n",
       "      <td>1S07</td>\n",
       "      <td>Operational</td>\n",
       "      <td>0.58</td>\n",
       "      <td>0.96</td>\n",
       "      <td>0.79</td>\n",
       "      <td>NaN</td>\n",
       "      <td>&lt;1</td>\n",
       "      <td>None</td>\n",
       "    </tr>\n",
       "    <tr>\n",
       "      <th>1</th>\n",
       "      <td>201500024</td>\n",
       "      <td>2015-01-01</td>\n",
       "      <td>11:15</td>\n",
       "      <td>1S04</td>\n",
       "      <td>Operational</td>\n",
       "      <td>0.71</td>\n",
       "      <td>0.94</td>\n",
       "      <td>0.80</td>\n",
       "      <td>NaN</td>\n",
       "      <td>&lt;1</td>\n",
       "      <td>None</td>\n",
       "    </tr>\n",
       "    <tr>\n",
       "      <th>2</th>\n",
       "      <td>201500025</td>\n",
       "      <td>2015-01-01</td>\n",
       "      <td>10:09</td>\n",
       "      <td>1S03A</td>\n",
       "      <td>Operational</td>\n",
       "      <td>0.79</td>\n",
       "      <td>0.93</td>\n",
       "      <td>0.79</td>\n",
       "      <td>NaN</td>\n",
       "      <td>&lt;1</td>\n",
       "      <td>None</td>\n",
       "    </tr>\n",
       "    <tr>\n",
       "      <th>3</th>\n",
       "      <td>201500026</td>\n",
       "      <td>2015-01-01</td>\n",
       "      <td>10:41</td>\n",
       "      <td>1S03B</td>\n",
       "      <td>Operational</td>\n",
       "      <td>0.77</td>\n",
       "      <td>0.93</td>\n",
       "      <td>0.80</td>\n",
       "      <td>NaN</td>\n",
       "      <td>&lt;1</td>\n",
       "      <td>None</td>\n",
       "    </tr>\n",
       "    <tr>\n",
       "      <th>4</th>\n",
       "      <td>201500027</td>\n",
       "      <td>2015-01-01</td>\n",
       "      <td>09:38</td>\n",
       "      <td>11550</td>\n",
       "      <td>Compliance</td>\n",
       "      <td>0.74</td>\n",
       "      <td>0.95</td>\n",
       "      <td>NaN</td>\n",
       "      <td>NaN</td>\n",
       "      <td>&lt;1</td>\n",
       "      <td>None</td>\n",
       "    </tr>\n",
       "    <tr>\n",
       "      <th>...</th>\n",
       "      <td>...</td>\n",
       "      <td>...</td>\n",
       "      <td>...</td>\n",
       "      <td>...</td>\n",
       "      <td>...</td>\n",
       "      <td>...</td>\n",
       "      <td>...</td>\n",
       "      <td>...</td>\n",
       "      <td>...</td>\n",
       "      <td>...</td>\n",
       "      <td>...</td>\n",
       "    </tr>\n",
       "    <tr>\n",
       "      <th>109771</th>\n",
       "      <td>202203571</td>\n",
       "      <td>2022-01-31</td>\n",
       "      <td>12:28</td>\n",
       "      <td>40200</td>\n",
       "      <td>Operational</td>\n",
       "      <td>0.38</td>\n",
       "      <td>0.88</td>\n",
       "      <td>NaN</td>\n",
       "      <td>NaN</td>\n",
       "      <td>&lt;1</td>\n",
       "      <td>None</td>\n",
       "    </tr>\n",
       "    <tr>\n",
       "      <th>109772</th>\n",
       "      <td>202203572</td>\n",
       "      <td>2022-01-31</td>\n",
       "      <td>12:03</td>\n",
       "      <td>40250</td>\n",
       "      <td>Compliance</td>\n",
       "      <td>0.51</td>\n",
       "      <td>0.89</td>\n",
       "      <td>NaN</td>\n",
       "      <td>NaN</td>\n",
       "      <td>&lt;1</td>\n",
       "      <td>None</td>\n",
       "    </tr>\n",
       "    <tr>\n",
       "      <th>109773</th>\n",
       "      <td>202203573</td>\n",
       "      <td>2022-01-31</td>\n",
       "      <td>08:39</td>\n",
       "      <td>47150</td>\n",
       "      <td>Compliance</td>\n",
       "      <td>0.04</td>\n",
       "      <td>0.79</td>\n",
       "      <td>NaN</td>\n",
       "      <td>NaN</td>\n",
       "      <td>&lt;1</td>\n",
       "      <td>None</td>\n",
       "    </tr>\n",
       "    <tr>\n",
       "      <th>109774</th>\n",
       "      <td>202203576</td>\n",
       "      <td>2022-01-31</td>\n",
       "      <td>11:13</td>\n",
       "      <td>20900</td>\n",
       "      <td>Operational</td>\n",
       "      <td>0.22</td>\n",
       "      <td>0.86</td>\n",
       "      <td>NaN</td>\n",
       "      <td>NaN</td>\n",
       "      <td>&lt;1</td>\n",
       "      <td>None</td>\n",
       "    </tr>\n",
       "    <tr>\n",
       "      <th>109775</th>\n",
       "      <td>202203577</td>\n",
       "      <td>2022-01-31</td>\n",
       "      <td>09:05</td>\n",
       "      <td>27350</td>\n",
       "      <td>Compliance</td>\n",
       "      <td>0.25</td>\n",
       "      <td>0.86</td>\n",
       "      <td>NaN</td>\n",
       "      <td>NaN</td>\n",
       "      <td>&lt;1</td>\n",
       "      <td>None</td>\n",
       "    </tr>\n",
       "  </tbody>\n",
       "</table>\n",
       "<p>109776 rows × 11 columns</p>\n",
       "</div>"
      ],
      "text/plain": [
       "       Sample Number Sample Date Sample Time Sample Site Sample class  \\\n",
       "0          201500023  2015-01-01       12:19        1S07  Operational   \n",
       "1          201500024  2015-01-01       11:15        1S04  Operational   \n",
       "2          201500025  2015-01-01       10:09       1S03A  Operational   \n",
       "3          201500026  2015-01-01       10:41       1S03B  Operational   \n",
       "4          201500027  2015-01-01       09:38       11550   Compliance   \n",
       "...              ...         ...         ...         ...          ...   \n",
       "109771     202203571  2022-01-31       12:28       40200  Operational   \n",
       "109772     202203572  2022-01-31       12:03       40250   Compliance   \n",
       "109773     202203573  2022-01-31       08:39       47150   Compliance   \n",
       "109774     202203576  2022-01-31       11:13       20900  Operational   \n",
       "109775     202203577  2022-01-31       09:05       27350   Compliance   \n",
       "\n",
       "        Residual Free Chlorine (mg/L)  Turbidity (NTU)  Fluoride (mg/L)  \\\n",
       "0                                0.58             0.96             0.79   \n",
       "1                                0.71             0.94             0.80   \n",
       "2                                0.79             0.93             0.79   \n",
       "3                                0.77             0.93             0.80   \n",
       "4                                0.74             0.95              NaN   \n",
       "...                               ...              ...              ...   \n",
       "109771                           0.38             0.88              NaN   \n",
       "109772                           0.51             0.89              NaN   \n",
       "109773                           0.04             0.79              NaN   \n",
       "109774                           0.22             0.86              NaN   \n",
       "109775                           0.25             0.86              NaN   \n",
       "\n",
       "        Coliform (Quanti-Tray) (MPN /100mL) E.coli(Quanti-Tray) (MPN/100mL)  \\\n",
       "0                                       NaN                              <1   \n",
       "1                                       NaN                              <1   \n",
       "2                                       NaN                              <1   \n",
       "3                                       NaN                              <1   \n",
       "4                                       NaN                              <1   \n",
       "...                                     ...                             ...   \n",
       "109771                                  NaN                              <1   \n",
       "109772                                  NaN                              <1   \n",
       "109773                                  NaN                              <1   \n",
       "109774                                  NaN                              <1   \n",
       "109775                                  NaN                              <1   \n",
       "\n",
       "       geometry  \n",
       "0          None  \n",
       "1          None  \n",
       "2          None  \n",
       "3          None  \n",
       "4          None  \n",
       "...         ...  \n",
       "109771     None  \n",
       "109772     None  \n",
       "109773     None  \n",
       "109774     None  \n",
       "109775     None  \n",
       "\n",
       "[109776 rows x 11 columns]"
      ]
     },
     "execution_count": 89,
     "metadata": {},
     "output_type": "execute_result"
    }
   ],
   "source": [
    "data"
   ]
  },
  {
   "cell_type": "code",
   "execution_count": 5,
   "id": "ea96a64b-14cf-4260-87fd-5bf9ec5c57fa",
   "metadata": {
    "tags": []
   },
   "outputs": [
    {
     "data": {
      "text/plain": [
       "<AxesSubplot:xlabel='Residual Free Chlorine (mg/L)', ylabel='Percent'>"
      ]
     },
     "execution_count": 5,
     "metadata": {},
     "output_type": "execute_result"
    },
    {
     "data": {
      "image/png": "[encoded data removed]",
      "text/plain": [
       "<Figure size 432x288 with 1 Axes>"
      ]
     },
     "metadata": {
      "needs_background": "light"
     },
     "output_type": "display_data"
    }
   ],
   "source": [
    "sns.histplot(data[\"Residual Free Chlorine (mg/L)\"], stat = \"percent\", binwidth = .05)"
   ]
  },
  {
   "cell_type": "code",
   "execution_count": 8,
   "id": "a0bd51b0-41b5-4b95-85f1-a06618feb5b3",
   "metadata": {},
   "outputs": [
    {
     "data": {
      "image/png": "[encoded data removed]",
      "text/plain": [
       "<Figure size 432x288 with 1 Axes>"
      ]
     },
     "metadata": {
      "needs_background": "light"
     },
     "output_type": "display_data"
    }
   ],
   "source": [
    "fig =  (sns.histplot(data[\"Residual Free Chlorine (mg/L)\"], stat = \"percent\", binwidth = .05))"
   ]
  },
  {
   "cell_type": "code",
   "execution_count": null,
   "id": "e576d778-45bf-4094-a0dd-4abfaf3fc8b3",
   "metadata": {},
   "outputs": [],
   "source": []
  },
  {
   "cell_type": "code",
   "execution_count": 11,
   "id": "ec4ffeda-2b6e-45c4-bbe4-9302a4252d2d",
   "metadata": {},
   "outputs": [
    {
     "data": {
      "image/png": "[encoded data removed]",
      "text/plain": [
       "<Figure size 432x288 with 1 Axes>"
      ]
     },
     "metadata": {
      "needs_background": "light"
     },
     "output_type": "display_data"
    }
   ],
   "source": [
    "chlorine1 =  (sns.histplot(data[\"Residual Free Chlorine (mg/L)\"], stat = \"percent\", binwidth = .05))\n",
    "fig = chlorine1.get_figure()\n",
    "fig.savefig(r\"C:\\Users\\p7j5p\\Documents\\Paul's reports\\696\\Cleaned files\\NYC chlorine.png\")"
   ]
  },
  {
   "cell_type": "code",
   "execution_count": 33,
   "id": "8969f839-4a95-4249-8a18-005378158a1d",
   "metadata": {
    "tags": []
   },
   "outputs": [
    {
     "data": {
      "text/plain": [
       "<AxesSubplot:xlabel='Residual Free Chlorine (mg/L)', ylabel='Percent'>"
      ]
     },
     "execution_count": 33,
     "metadata": {},
     "output_type": "execute_result"
    },
    {
     "data": {
      "image/png": "[encoded data removed]",
      "text/plain": [
       "<Figure size 432x288 with 1 Axes>"
      ]
     },
     "metadata": {
      "needs_background": "light"
     },
     "output_type": "display_data"
    }
   ],
   "source": [
    "sns.histplot(data[\"Residual Free Chlorine (mg/L)\"], stat = \"percent\", binwidth = .25)"
   ]
  },
  {
   "cell_type": "code",
   "execution_count": 44,
   "id": "3183b7b9-f17a-495e-88d5-b6ab5c370f9d",
   "metadata": {},
   "outputs": [
    {
     "data": {
      "text/plain": [
       "<AxesSubplot:xlabel='Fluoride (mg/L)', ylabel='Percent'>"
      ]
     },
     "execution_count": 44,
     "metadata": {},
     "output_type": "execute_result"
    },
    {
     "data": {
      "image/png": "[encoded data removed]",
      "text/plain": [
       "<Figure size 432x288 with 1 Axes>"
      ]
     },
     "metadata": {
      "needs_background": "light"
     },
     "output_type": "display_data"
    }
   ],
   "source": [
    "sns.histplot(data[\"Fluoride (mg/L)\"], stat = \"percent\", binwidth = .01)"
   ]
  },
  {
   "cell_type": "code",
   "execution_count": 12,
   "id": "4204f9db-fb52-4fc1-9831-c27894e36626",
   "metadata": {},
   "outputs": [
    {
     "data": {
      "image/png": "[encoded data removed]",
      "text/plain": [
       "<Figure size 432x288 with 1 Axes>"
      ]
     },
     "metadata": {
      "needs_background": "light"
     },
     "output_type": "display_data"
    }
   ],
   "source": [
    "floride =  sns.histplot(data[\"Fluoride (mg/L)\"], stat = \"percent\", binwidth = .01)\n",
    "fig = floride.get_figure()\n",
    "fig.savefig(r\"C:\\Users\\p7j5p\\Documents\\Paul's reports\\696\\Cleaned files\\NYC fluoride.png\")"
   ]
  },
  {
   "cell_type": "code",
   "execution_count": 51,
   "id": "bd666caf-45e6-4902-9b8e-2a91082172ba",
   "metadata": {},
   "outputs": [
    {
     "data": {
      "text/plain": [
       "<AxesSubplot:xlabel='Fluoride (mg/L)', ylabel='Density'>"
      ]
     },
     "execution_count": 51,
     "metadata": {},
     "output_type": "execute_result"
    },
    {
     "data": {
      "image/png": "[encoded data removed]",
      "text/plain": [
       "<Figure size 432x288 with 1 Axes>"
      ]
     },
     "metadata": {
      "needs_background": "light"
     },
     "output_type": "display_data"
    }
   ],
   "source": [
    "sns.kdeplot(data[\"Fluoride (mg/L)\"]) "
   ]
  },
  {
   "cell_type": "code",
   "execution_count": 28,
   "id": "54f34ca1-846b-4754-90fe-052c4b1fe340",
   "metadata": {
    "tags": []
   },
   "outputs": [
    {
     "data": {
      "text/plain": [
       "<AxesSubplot:xlabel='Residual Free Chlorine (mg/L)', ylabel='Density'>"
      ]
     },
     "execution_count": 28,
     "metadata": {},
     "output_type": "execute_result"
    },
    {
     "data": {
      "image/png": "[encoded data removed]",
      "text/plain": [
       "<Figure size 432x288 with 1 Axes>"
      ]
     },
     "metadata": {
      "needs_background": "light"
     },
     "output_type": "display_data"
    }
   ],
   "source": [
    "sns.kdeplot(data[\"Residual Free Chlorine (mg/L)\"])"
   ]
  },
  {
   "cell_type": "code",
   "execution_count": 14,
   "id": "d2763be6-6711-4e9f-a021-4ce872e51e81",
   "metadata": {},
   "outputs": [
    {
     "data": {
      "text/plain": [
       "Sample Number                            object\n",
       "Sample Date                              object\n",
       "Sample Time                              object\n",
       "Sample Site                              object\n",
       "Sample class                             object\n",
       "Residual Free Chlorine (mg/L)            object\n",
       "Turbidity (NTU)                          object\n",
       "Fluoride (mg/L)                          object\n",
       "Coliform (Quanti-Tray) (MPN /100mL)      object\n",
       "E.coli(Quanti-Tray) (MPN/100mL)          object\n",
       "geometry                               geometry\n",
       "dtype: object"
      ]
     },
     "execution_count": 14,
     "metadata": {},
     "output_type": "execute_result"
    }
   ],
   "source": [
    "data.dtypes"
   ]
  },
  {
   "cell_type": "code",
   "execution_count": 27,
   "id": "c518d6a9-cdd2-456f-8118-233243eab60b",
   "metadata": {},
   "outputs": [
    {
     "data": {
      "text/html": [
       "<div>\n",
       "<style scoped>\n",
       "    .dataframe tbody tr th:only-of-type {\n",
       "        vertical-align: middle;\n",
       "    }\n",
       "\n",
       "    .dataframe tbody tr th {\n",
       "        vertical-align: top;\n",
       "    }\n",
       "\n",
       "    .dataframe thead th {\n",
       "        text-align: right;\n",
       "    }\n",
       "</style>\n",
       "<table border=\"1\" class=\"dataframe\">\n",
       "  <thead>\n",
       "    <tr style=\"text-align: right;\">\n",
       "      <th></th>\n",
       "      <th>Residual Free Chlorine (mg/L)</th>\n",
       "      <th>Turbidity (NTU)</th>\n",
       "      <th>Fluoride (mg/L)</th>\n",
       "      <th>Coliform (Quanti-Tray) (MPN /100mL)</th>\n",
       "    </tr>\n",
       "  </thead>\n",
       "  <tbody>\n",
       "    <tr>\n",
       "      <th>count</th>\n",
       "      <td>109774.00</td>\n",
       "      <td>109003.00</td>\n",
       "      <td>14293.00</td>\n",
       "      <td>421.00</td>\n",
       "    </tr>\n",
       "    <tr>\n",
       "      <th>mean</th>\n",
       "      <td>0.58</td>\n",
       "      <td>0.73</td>\n",
       "      <td>0.71</td>\n",
       "      <td>33.83</td>\n",
       "    </tr>\n",
       "    <tr>\n",
       "      <th>std</th>\n",
       "      <td>0.21</td>\n",
       "      <td>0.27</td>\n",
       "      <td>0.06</td>\n",
       "      <td>64.84</td>\n",
       "    </tr>\n",
       "    <tr>\n",
       "      <th>min</th>\n",
       "      <td>0.00</td>\n",
       "      <td>0.10</td>\n",
       "      <td>0.03</td>\n",
       "      <td>1.00</td>\n",
       "    </tr>\n",
       "    <tr>\n",
       "      <th>25%</th>\n",
       "      <td>0.45</td>\n",
       "      <td>0.62</td>\n",
       "      <td>0.69</td>\n",
       "      <td>1.00</td>\n",
       "    </tr>\n",
       "    <tr>\n",
       "      <th>50%</th>\n",
       "      <td>0.59</td>\n",
       "      <td>0.72</td>\n",
       "      <td>0.71</td>\n",
       "      <td>3.10</td>\n",
       "    </tr>\n",
       "    <tr>\n",
       "      <th>75%</th>\n",
       "      <td>0.72</td>\n",
       "      <td>0.84</td>\n",
       "      <td>0.73</td>\n",
       "      <td>17.80</td>\n",
       "    </tr>\n",
       "    <tr>\n",
       "      <th>max</th>\n",
       "      <td>2.20</td>\n",
       "      <td>33.80</td>\n",
       "      <td>0.89</td>\n",
       "      <td>200.50</td>\n",
       "    </tr>\n",
       "  </tbody>\n",
       "</table>\n",
       "</div>"
      ],
      "text/plain": [
       "       Residual Free Chlorine (mg/L)  Turbidity (NTU)  Fluoride (mg/L)  \\\n",
       "count                      109774.00        109003.00         14293.00   \n",
       "mean                            0.58             0.73             0.71   \n",
       "std                             0.21             0.27             0.06   \n",
       "min                             0.00             0.10             0.03   \n",
       "25%                             0.45             0.62             0.69   \n",
       "50%                             0.59             0.72             0.71   \n",
       "75%                             0.72             0.84             0.73   \n",
       "max                             2.20            33.80             0.89   \n",
       "\n",
       "       Coliform (Quanti-Tray) (MPN /100mL)  \n",
       "count                               421.00  \n",
       "mean                                 33.83  \n",
       "std                                  64.84  \n",
       "min                                   1.00  \n",
       "25%                                   1.00  \n",
       "50%                                   3.10  \n",
       "75%                                  17.80  \n",
       "max                                 200.50  "
      ]
     },
     "execution_count": 27,
     "metadata": {},
     "output_type": "execute_result"
    }
   ],
   "source": [
    "data.describe().round(2)"
   ]
  },
  {
   "cell_type": "code",
   "execution_count": 6,
   "id": "d44df95c-63da-4495-a097-2fe1db208900",
   "metadata": {
    "collapsed": true,
    "jupyter": {
     "outputs_hidden": true
    },
    "tags": []
   },
   "outputs": [
    {
     "ename": "ValueError",
     "evalue": "Image size of 68688x216 pixels is too large. It must be less than 2^16 in each direction.",
     "output_type": "error",
     "traceback": [
      "\u001b[1;31m---------------------------------------------------------------------------\u001b[0m",
      "\u001b[1;31mValueError\u001b[0m                                Traceback (most recent call last)",
      "Input \u001b[1;32mIn [6]\u001b[0m, in \u001b[0;36m<module>\u001b[1;34m\u001b[0m\n\u001b[1;32m----> 1\u001b[0m g \u001b[38;5;241m=\u001b[39m \u001b[43msns\u001b[49m\u001b[38;5;241;43m.\u001b[39;49m\u001b[43mFacetGrid\u001b[49m\u001b[43m(\u001b[49m\u001b[43mdata\u001b[49m\u001b[38;5;241;43m.\u001b[39;49m\u001b[43msample\u001b[49m\u001b[43m(\u001b[49m\u001b[38;5;241;43m1000\u001b[39;49m\u001b[43m)\u001b[49m\u001b[43m,\u001b[49m\u001b[43m \u001b[49m\u001b[43mcol\u001b[49m\u001b[38;5;241;43m=\u001b[39;49m\u001b[38;5;124;43m\"\u001b[39;49m\u001b[38;5;124;43mSample Time\u001b[39;49m\u001b[38;5;124;43m\"\u001b[39;49m\u001b[43m)\u001b[49m\n\u001b[0;32m      2\u001b[0m g\u001b[38;5;241m.\u001b[39mmap(sns\u001b[38;5;241m.\u001b[39mscatterplot, \u001b[38;5;124m\"\u001b[39m\u001b[38;5;124mResidual Free Chlorine (mg/L)\u001b[39m\u001b[38;5;124m\"\u001b[39m, \u001b[38;5;124m\"\u001b[39m\u001b[38;5;124mTurbidity (NTU)\u001b[39m\u001b[38;5;124m\"\u001b[39m)\n",
      "File \u001b[1;32m~\\miniconda3\\envs\\info615\\lib\\site-packages\\seaborn\\_decorators.py:46\u001b[0m, in \u001b[0;36m_deprecate_positional_args.<locals>.inner_f\u001b[1;34m(*args, **kwargs)\u001b[0m\n\u001b[0;32m     36\u001b[0m     warnings\u001b[38;5;241m.\u001b[39mwarn(\n\u001b[0;32m     37\u001b[0m         \u001b[38;5;124m\"\u001b[39m\u001b[38;5;124mPass the following variable\u001b[39m\u001b[38;5;132;01m{}\u001b[39;00m\u001b[38;5;124m as \u001b[39m\u001b[38;5;132;01m{}\u001b[39;00m\u001b[38;5;124mkeyword arg\u001b[39m\u001b[38;5;132;01m{}\u001b[39;00m\u001b[38;5;124m: \u001b[39m\u001b[38;5;132;01m{}\u001b[39;00m\u001b[38;5;124m. \u001b[39m\u001b[38;5;124m\"\u001b[39m\n\u001b[0;32m     38\u001b[0m         \u001b[38;5;124m\"\u001b[39m\u001b[38;5;124mFrom version 0.12, the only valid positional argument \u001b[39m\u001b[38;5;124m\"\u001b[39m\n\u001b[1;32m   (...)\u001b[0m\n\u001b[0;32m     43\u001b[0m         \u001b[38;5;167;01mFutureWarning\u001b[39;00m\n\u001b[0;32m     44\u001b[0m     )\n\u001b[0;32m     45\u001b[0m kwargs\u001b[38;5;241m.\u001b[39mupdate({k: arg \u001b[38;5;28;01mfor\u001b[39;00m k, arg \u001b[38;5;129;01min\u001b[39;00m \u001b[38;5;28mzip\u001b[39m(sig\u001b[38;5;241m.\u001b[39mparameters, args)})\n\u001b[1;32m---> 46\u001b[0m \u001b[38;5;28;01mreturn\u001b[39;00m f(\u001b[38;5;241m*\u001b[39m\u001b[38;5;241m*\u001b[39mkwargs)\n",
      "File \u001b[1;32m~\\miniconda3\\envs\\info615\\lib\\site-packages\\seaborn\\axisgrid.py:485\u001b[0m, in \u001b[0;36mFacetGrid.__init__\u001b[1;34m(self, data, row, col, hue, col_wrap, sharex, sharey, height, aspect, palette, row_order, col_order, hue_order, hue_kws, dropna, legend_out, despine, margin_titles, xlim, ylim, subplot_kws, gridspec_kws, size)\u001b[0m\n\u001b[0;32m    481\u001b[0m \u001b[38;5;28mself\u001b[39m\u001b[38;5;241m.\u001b[39m_not_na \u001b[38;5;241m=\u001b[39m not_na\n\u001b[0;32m    483\u001b[0m \u001b[38;5;66;03m# --- Make the axes look good\u001b[39;00m\n\u001b[1;32m--> 485\u001b[0m \u001b[38;5;28;43mself\u001b[39;49m\u001b[38;5;241;43m.\u001b[39;49m\u001b[43mtight_layout\u001b[49m\u001b[43m(\u001b[49m\u001b[43m)\u001b[49m\n\u001b[0;32m    486\u001b[0m \u001b[38;5;28;01mif\u001b[39;00m despine:\n\u001b[0;32m    487\u001b[0m     \u001b[38;5;28mself\u001b[39m\u001b[38;5;241m.\u001b[39mdespine()\n",
      "File \u001b[1;32m~\\miniconda3\\envs\\info615\\lib\\site-packages\\seaborn\\axisgrid.py:88\u001b[0m, in \u001b[0;36mGrid.tight_layout\u001b[1;34m(self, *args, **kwargs)\u001b[0m\n\u001b[0;32m     86\u001b[0m \u001b[38;5;28;01mif\u001b[39;00m \u001b[38;5;28mself\u001b[39m\u001b[38;5;241m.\u001b[39m_tight_layout_pad \u001b[38;5;129;01mis\u001b[39;00m \u001b[38;5;129;01mnot\u001b[39;00m \u001b[38;5;28;01mNone\u001b[39;00m:\n\u001b[0;32m     87\u001b[0m     kwargs\u001b[38;5;241m.\u001b[39msetdefault(\u001b[38;5;124m\"\u001b[39m\u001b[38;5;124mpad\u001b[39m\u001b[38;5;124m\"\u001b[39m, \u001b[38;5;28mself\u001b[39m\u001b[38;5;241m.\u001b[39m_tight_layout_pad)\n\u001b[1;32m---> 88\u001b[0m \u001b[38;5;28mself\u001b[39m\u001b[38;5;241m.\u001b[39m_figure\u001b[38;5;241m.\u001b[39mtight_layout(\u001b[38;5;241m*\u001b[39margs, \u001b[38;5;241m*\u001b[39m\u001b[38;5;241m*\u001b[39mkwargs)\n",
      "File \u001b[1;32m~\\miniconda3\\envs\\info615\\lib\\site-packages\\matplotlib\\figure.py:3159\u001b[0m, in \u001b[0;36mFigure.tight_layout\u001b[1;34m(self, pad, h_pad, w_pad, rect)\u001b[0m\n\u001b[0;32m   3154\u001b[0m \u001b[38;5;28;01mif\u001b[39;00m \u001b[38;5;28;01mNone\u001b[39;00m \u001b[38;5;129;01min\u001b[39;00m subplotspec_list:\n\u001b[0;32m   3155\u001b[0m     _api\u001b[38;5;241m.\u001b[39mwarn_external(\u001b[38;5;124m\"\u001b[39m\u001b[38;5;124mThis figure includes Axes that are not \u001b[39m\u001b[38;5;124m\"\u001b[39m\n\u001b[0;32m   3156\u001b[0m                        \u001b[38;5;124m\"\u001b[39m\u001b[38;5;124mcompatible with tight_layout, so results \u001b[39m\u001b[38;5;124m\"\u001b[39m\n\u001b[0;32m   3157\u001b[0m                        \u001b[38;5;124m\"\u001b[39m\u001b[38;5;124mmight be incorrect.\u001b[39m\u001b[38;5;124m\"\u001b[39m)\n\u001b[1;32m-> 3159\u001b[0m renderer \u001b[38;5;241m=\u001b[39m \u001b[43mget_renderer\u001b[49m\u001b[43m(\u001b[49m\u001b[38;5;28;43mself\u001b[39;49m\u001b[43m)\u001b[49m\n\u001b[0;32m   3160\u001b[0m ctx \u001b[38;5;241m=\u001b[39m (renderer\u001b[38;5;241m.\u001b[39m_draw_disabled()\n\u001b[0;32m   3161\u001b[0m        \u001b[38;5;28;01mif\u001b[39;00m \u001b[38;5;28mhasattr\u001b[39m(renderer, \u001b[38;5;124m'\u001b[39m\u001b[38;5;124m_draw_disabled\u001b[39m\u001b[38;5;124m'\u001b[39m)\n\u001b[0;32m   3162\u001b[0m        \u001b[38;5;28;01melse\u001b[39;00m suppress())\n\u001b[0;32m   3163\u001b[0m \u001b[38;5;28;01mwith\u001b[39;00m ctx:\n",
      "File \u001b[1;32m~\\miniconda3\\envs\\info615\\lib\\site-packages\\matplotlib\\tight_layout.py:183\u001b[0m, in \u001b[0;36mget_renderer\u001b[1;34m(fig)\u001b[0m\n\u001b[0;32m    181\u001b[0m canvas \u001b[38;5;241m=\u001b[39m fig\u001b[38;5;241m.\u001b[39mcanvas\n\u001b[0;32m    182\u001b[0m \u001b[38;5;28;01mif\u001b[39;00m canvas \u001b[38;5;129;01mand\u001b[39;00m \u001b[38;5;28mhasattr\u001b[39m(canvas, \u001b[38;5;124m\"\u001b[39m\u001b[38;5;124mget_renderer\u001b[39m\u001b[38;5;124m\"\u001b[39m):\n\u001b[1;32m--> 183\u001b[0m     \u001b[38;5;28;01mreturn\u001b[39;00m \u001b[43mcanvas\u001b[49m\u001b[38;5;241;43m.\u001b[39;49m\u001b[43mget_renderer\u001b[49m\u001b[43m(\u001b[49m\u001b[43m)\u001b[49m\n\u001b[0;32m    184\u001b[0m \u001b[38;5;28;01melse\u001b[39;00m:\n\u001b[0;32m    185\u001b[0m     \u001b[38;5;28;01mfrom\u001b[39;00m \u001b[38;5;21;01m.\u001b[39;00m \u001b[38;5;28;01mimport\u001b[39;00m backend_bases\n",
      "File \u001b[1;32m~\\miniconda3\\envs\\info615\\lib\\site-packages\\matplotlib\\backends\\backend_agg.py:417\u001b[0m, in \u001b[0;36mFigureCanvasAgg.get_renderer\u001b[1;34m(self, cleared)\u001b[0m\n\u001b[0;32m    414\u001b[0m reuse_renderer \u001b[38;5;241m=\u001b[39m (\u001b[38;5;28mhasattr\u001b[39m(\u001b[38;5;28mself\u001b[39m, \u001b[38;5;124m\"\u001b[39m\u001b[38;5;124mrenderer\u001b[39m\u001b[38;5;124m\"\u001b[39m)\n\u001b[0;32m    415\u001b[0m                   \u001b[38;5;129;01mand\u001b[39;00m \u001b[38;5;28mgetattr\u001b[39m(\u001b[38;5;28mself\u001b[39m, \u001b[38;5;124m\"\u001b[39m\u001b[38;5;124m_lastKey\u001b[39m\u001b[38;5;124m\"\u001b[39m, \u001b[38;5;28;01mNone\u001b[39;00m) \u001b[38;5;241m==\u001b[39m key)\n\u001b[0;32m    416\u001b[0m \u001b[38;5;28;01mif\u001b[39;00m \u001b[38;5;129;01mnot\u001b[39;00m reuse_renderer:\n\u001b[1;32m--> 417\u001b[0m     \u001b[38;5;28mself\u001b[39m\u001b[38;5;241m.\u001b[39mrenderer \u001b[38;5;241m=\u001b[39m \u001b[43mRendererAgg\u001b[49m\u001b[43m(\u001b[49m\u001b[43mw\u001b[49m\u001b[43m,\u001b[49m\u001b[43m \u001b[49m\u001b[43mh\u001b[49m\u001b[43m,\u001b[49m\u001b[43m \u001b[49m\u001b[38;5;28;43mself\u001b[39;49m\u001b[38;5;241;43m.\u001b[39;49m\u001b[43mfigure\u001b[49m\u001b[38;5;241;43m.\u001b[39;49m\u001b[43mdpi\u001b[49m\u001b[43m)\u001b[49m\n\u001b[0;32m    418\u001b[0m     \u001b[38;5;28mself\u001b[39m\u001b[38;5;241m.\u001b[39m_lastKey \u001b[38;5;241m=\u001b[39m key\n\u001b[0;32m    419\u001b[0m \u001b[38;5;28;01melif\u001b[39;00m cleared:\n",
      "File \u001b[1;32m~\\miniconda3\\envs\\info615\\lib\\site-packages\\matplotlib\\backends\\backend_agg.py:91\u001b[0m, in \u001b[0;36mRendererAgg.__init__\u001b[1;34m(self, width, height, dpi)\u001b[0m\n\u001b[0;32m     89\u001b[0m \u001b[38;5;28mself\u001b[39m\u001b[38;5;241m.\u001b[39mwidth \u001b[38;5;241m=\u001b[39m width\n\u001b[0;32m     90\u001b[0m \u001b[38;5;28mself\u001b[39m\u001b[38;5;241m.\u001b[39mheight \u001b[38;5;241m=\u001b[39m height\n\u001b[1;32m---> 91\u001b[0m \u001b[38;5;28mself\u001b[39m\u001b[38;5;241m.\u001b[39m_renderer \u001b[38;5;241m=\u001b[39m \u001b[43m_RendererAgg\u001b[49m\u001b[43m(\u001b[49m\u001b[38;5;28;43mint\u001b[39;49m\u001b[43m(\u001b[49m\u001b[43mwidth\u001b[49m\u001b[43m)\u001b[49m\u001b[43m,\u001b[49m\u001b[43m \u001b[49m\u001b[38;5;28;43mint\u001b[39;49m\u001b[43m(\u001b[49m\u001b[43mheight\u001b[49m\u001b[43m)\u001b[49m\u001b[43m,\u001b[49m\u001b[43m \u001b[49m\u001b[43mdpi\u001b[49m\u001b[43m)\u001b[49m\n\u001b[0;32m     92\u001b[0m \u001b[38;5;28mself\u001b[39m\u001b[38;5;241m.\u001b[39m_filter_renderers \u001b[38;5;241m=\u001b[39m []\n\u001b[0;32m     94\u001b[0m \u001b[38;5;28mself\u001b[39m\u001b[38;5;241m.\u001b[39m_update_methods()\n",
      "\u001b[1;31mValueError\u001b[0m: Image size of 68688x216 pixels is too large. It must be less than 2^16 in each direction."
     ]
    },
    {
     "ename": "ValueError",
     "evalue": "Image size of 68688x216 pixels is too large. It must be less than 2^16 in each direction.",
     "output_type": "error",
     "traceback": [
      "\u001b[1;31m---------------------------------------------------------------------------\u001b[0m",
      "\u001b[1;31mValueError\u001b[0m                                Traceback (most recent call last)",
      "File \u001b[1;32m~\\miniconda3\\envs\\info615\\lib\\site-packages\\IPython\\core\\formatters.py:339\u001b[0m, in \u001b[0;36mBaseFormatter.__call__\u001b[1;34m(self, obj)\u001b[0m\n\u001b[0;32m    337\u001b[0m     \u001b[38;5;28;01mpass\u001b[39;00m\n\u001b[0;32m    338\u001b[0m \u001b[38;5;28;01melse\u001b[39;00m:\n\u001b[1;32m--> 339\u001b[0m     \u001b[38;5;28;01mreturn\u001b[39;00m \u001b[43mprinter\u001b[49m\u001b[43m(\u001b[49m\u001b[43mobj\u001b[49m\u001b[43m)\u001b[49m\n\u001b[0;32m    340\u001b[0m \u001b[38;5;66;03m# Finally look for special method names\u001b[39;00m\n\u001b[0;32m    341\u001b[0m method \u001b[38;5;241m=\u001b[39m get_real_method(obj, \u001b[38;5;28mself\u001b[39m\u001b[38;5;241m.\u001b[39mprint_method)\n",
      "File \u001b[1;32m~\\miniconda3\\envs\\info615\\lib\\site-packages\\IPython\\core\\pylabtools.py:151\u001b[0m, in \u001b[0;36mprint_figure\u001b[1;34m(fig, fmt, bbox_inches, base64, **kwargs)\u001b[0m\n\u001b[0;32m    148\u001b[0m     \u001b[38;5;28;01mfrom\u001b[39;00m \u001b[38;5;21;01mmatplotlib\u001b[39;00m\u001b[38;5;21;01m.\u001b[39;00m\u001b[38;5;21;01mbackend_bases\u001b[39;00m \u001b[38;5;28;01mimport\u001b[39;00m FigureCanvasBase\n\u001b[0;32m    149\u001b[0m     FigureCanvasBase(fig)\n\u001b[1;32m--> 151\u001b[0m fig\u001b[38;5;241m.\u001b[39mcanvas\u001b[38;5;241m.\u001b[39mprint_figure(bytes_io, \u001b[38;5;241m*\u001b[39m\u001b[38;5;241m*\u001b[39mkw)\n\u001b[0;32m    152\u001b[0m data \u001b[38;5;241m=\u001b[39m bytes_io\u001b[38;5;241m.\u001b[39mgetvalue()\n\u001b[0;32m    153\u001b[0m \u001b[38;5;28;01mif\u001b[39;00m fmt \u001b[38;5;241m==\u001b[39m \u001b[38;5;124m'\u001b[39m\u001b[38;5;124msvg\u001b[39m\u001b[38;5;124m'\u001b[39m:\n",
      "File \u001b[1;32m~\\miniconda3\\envs\\info615\\lib\\site-packages\\matplotlib\\backend_bases.py:2221\u001b[0m, in \u001b[0;36mFigureCanvasBase.print_figure\u001b[1;34m(self, filename, dpi, facecolor, edgecolor, orientation, format, bbox_inches, pad_inches, bbox_extra_artists, backend, **kwargs)\u001b[0m\n\u001b[0;32m   2214\u001b[0m     bbox_inches \u001b[38;5;241m=\u001b[39m rcParams[\u001b[38;5;124m'\u001b[39m\u001b[38;5;124msavefig.bbox\u001b[39m\u001b[38;5;124m'\u001b[39m]\n\u001b[0;32m   2216\u001b[0m \u001b[38;5;28;01mif\u001b[39;00m (\u001b[38;5;28mself\u001b[39m\u001b[38;5;241m.\u001b[39mfigure\u001b[38;5;241m.\u001b[39mget_constrained_layout() \u001b[38;5;129;01mor\u001b[39;00m\n\u001b[0;32m   2217\u001b[0m         bbox_inches \u001b[38;5;241m==\u001b[39m \u001b[38;5;124m\"\u001b[39m\u001b[38;5;124mtight\u001b[39m\u001b[38;5;124m\"\u001b[39m):\n\u001b[0;32m   2218\u001b[0m     \u001b[38;5;66;03m# we need to trigger a draw before printing to make sure\u001b[39;00m\n\u001b[0;32m   2219\u001b[0m     \u001b[38;5;66;03m# CL works.  \"tight\" also needs a draw to get the right\u001b[39;00m\n\u001b[0;32m   2220\u001b[0m     \u001b[38;5;66;03m# locations:\u001b[39;00m\n\u001b[1;32m-> 2221\u001b[0m     renderer \u001b[38;5;241m=\u001b[39m \u001b[43m_get_renderer\u001b[49m\u001b[43m(\u001b[49m\n\u001b[0;32m   2222\u001b[0m \u001b[43m        \u001b[49m\u001b[38;5;28;43mself\u001b[39;49m\u001b[38;5;241;43m.\u001b[39;49m\u001b[43mfigure\u001b[49m\u001b[43m,\u001b[49m\n\u001b[0;32m   2223\u001b[0m \u001b[43m        \u001b[49m\u001b[43mfunctools\u001b[49m\u001b[38;5;241;43m.\u001b[39;49m\u001b[43mpartial\u001b[49m\u001b[43m(\u001b[49m\n\u001b[0;32m   2224\u001b[0m \u001b[43m            \u001b[49m\u001b[43mprint_method\u001b[49m\u001b[43m,\u001b[49m\u001b[43m \u001b[49m\u001b[43morientation\u001b[49m\u001b[38;5;241;43m=\u001b[39;49m\u001b[43morientation\u001b[49m\u001b[43m)\u001b[49m\n\u001b[0;32m   2225\u001b[0m \u001b[43m    \u001b[49m\u001b[43m)\u001b[49m\n\u001b[0;32m   2226\u001b[0m     ctx \u001b[38;5;241m=\u001b[39m (renderer\u001b[38;5;241m.\u001b[39m_draw_disabled()\n\u001b[0;32m   2227\u001b[0m            \u001b[38;5;28;01mif\u001b[39;00m \u001b[38;5;28mhasattr\u001b[39m(renderer, \u001b[38;5;124m'\u001b[39m\u001b[38;5;124m_draw_disabled\u001b[39m\u001b[38;5;124m'\u001b[39m)\n\u001b[0;32m   2228\u001b[0m            \u001b[38;5;28;01melse\u001b[39;00m suppress())\n\u001b[0;32m   2229\u001b[0m     \u001b[38;5;28;01mwith\u001b[39;00m ctx:\n",
      "File \u001b[1;32m~\\miniconda3\\envs\\info615\\lib\\site-packages\\matplotlib\\backend_bases.py:1576\u001b[0m, in \u001b[0;36m_get_renderer\u001b[1;34m(figure, print_method)\u001b[0m\n\u001b[0;32m   1573\u001b[0m     print_method \u001b[38;5;241m=\u001b[39m \u001b[38;5;28mgetattr\u001b[39m(\n\u001b[0;32m   1574\u001b[0m         figure\u001b[38;5;241m.\u001b[39mcanvas\u001b[38;5;241m.\u001b[39m_get_output_canvas(\u001b[38;5;28;01mNone\u001b[39;00m, fmt), \u001b[38;5;124mf\u001b[39m\u001b[38;5;124m\"\u001b[39m\u001b[38;5;124mprint_\u001b[39m\u001b[38;5;132;01m{\u001b[39;00mfmt\u001b[38;5;132;01m}\u001b[39;00m\u001b[38;5;124m\"\u001b[39m)\n\u001b[0;32m   1575\u001b[0m \u001b[38;5;28;01mtry\u001b[39;00m:\n\u001b[1;32m-> 1576\u001b[0m     \u001b[43mprint_method\u001b[49m\u001b[43m(\u001b[49m\u001b[43mio\u001b[49m\u001b[38;5;241;43m.\u001b[39;49m\u001b[43mBytesIO\u001b[49m\u001b[43m(\u001b[49m\u001b[43m)\u001b[49m\u001b[43m)\u001b[49m\n\u001b[0;32m   1577\u001b[0m \u001b[38;5;28;01mexcept\u001b[39;00m Done \u001b[38;5;28;01mas\u001b[39;00m exc:\n\u001b[0;32m   1578\u001b[0m     renderer, \u001b[38;5;241m=\u001b[39m figure\u001b[38;5;241m.\u001b[39m_cachedRenderer, \u001b[38;5;241m=\u001b[39m exc\u001b[38;5;241m.\u001b[39margs\n",
      "File \u001b[1;32m~\\miniconda3\\envs\\info615\\lib\\site-packages\\matplotlib\\backend_bases.py:1669\u001b[0m, in \u001b[0;36m_check_savefig_extra_args.<locals>.wrapper\u001b[1;34m(*args, **kwargs)\u001b[0m\n\u001b[0;32m   1661\u001b[0m     _api\u001b[38;5;241m.\u001b[39mwarn_deprecated(\n\u001b[0;32m   1662\u001b[0m         \u001b[38;5;124m'\u001b[39m\u001b[38;5;124m3.3\u001b[39m\u001b[38;5;124m'\u001b[39m, name\u001b[38;5;241m=\u001b[39mname,\n\u001b[0;32m   1663\u001b[0m         message\u001b[38;5;241m=\u001b[39m\u001b[38;5;124m'\u001b[39m\u001b[38;5;132;01m%(name)s\u001b[39;00m\u001b[38;5;124m() got unexpected keyword argument \u001b[39m\u001b[38;5;124m\"\u001b[39m\u001b[38;5;124m'\u001b[39m\n\u001b[0;32m   1664\u001b[0m                 \u001b[38;5;241m+\u001b[39m arg \u001b[38;5;241m+\u001b[39m \u001b[38;5;124m'\u001b[39m\u001b[38;5;124m\"\u001b[39m\u001b[38;5;124m which is no longer supported as of \u001b[39m\u001b[38;5;124m'\u001b[39m\n\u001b[0;32m   1665\u001b[0m                 \u001b[38;5;124m'\u001b[39m\u001b[38;5;132;01m%(since)s\u001b[39;00m\u001b[38;5;124m and will become an error \u001b[39m\u001b[38;5;124m'\u001b[39m\n\u001b[0;32m   1666\u001b[0m                 \u001b[38;5;124m'\u001b[39m\u001b[38;5;132;01m%(removal)s\u001b[39;00m\u001b[38;5;124m'\u001b[39m)\n\u001b[0;32m   1667\u001b[0m     kwargs\u001b[38;5;241m.\u001b[39mpop(arg)\n\u001b[1;32m-> 1669\u001b[0m \u001b[38;5;28;01mreturn\u001b[39;00m func(\u001b[38;5;241m*\u001b[39margs, \u001b[38;5;241m*\u001b[39m\u001b[38;5;241m*\u001b[39mkwargs)\n",
      "File \u001b[1;32m~\\miniconda3\\envs\\info615\\lib\\site-packages\\matplotlib\\backends\\backend_agg.py:508\u001b[0m, in \u001b[0;36mFigureCanvasAgg.print_png\u001b[1;34m(self, filename_or_obj, metadata, pil_kwargs, *args)\u001b[0m\n\u001b[0;32m    459\u001b[0m \u001b[38;5;129m@_check_savefig_extra_args\u001b[39m\n\u001b[0;32m    460\u001b[0m \u001b[38;5;28;01mdef\u001b[39;00m \u001b[38;5;21mprint_png\u001b[39m(\u001b[38;5;28mself\u001b[39m, filename_or_obj, \u001b[38;5;241m*\u001b[39margs,\n\u001b[0;32m    461\u001b[0m               metadata\u001b[38;5;241m=\u001b[39m\u001b[38;5;28;01mNone\u001b[39;00m, pil_kwargs\u001b[38;5;241m=\u001b[39m\u001b[38;5;28;01mNone\u001b[39;00m):\n\u001b[0;32m    462\u001b[0m     \u001b[38;5;124;03m\"\"\"\u001b[39;00m\n\u001b[0;32m    463\u001b[0m \u001b[38;5;124;03m    Write the figure to a PNG file.\u001b[39;00m\n\u001b[0;32m    464\u001b[0m \n\u001b[1;32m   (...)\u001b[0m\n\u001b[0;32m    506\u001b[0m \u001b[38;5;124;03m        *metadata*, including the default 'Software' key.\u001b[39;00m\n\u001b[0;32m    507\u001b[0m \u001b[38;5;124;03m    \"\"\"\u001b[39;00m\n\u001b[1;32m--> 508\u001b[0m     \u001b[43mFigureCanvasAgg\u001b[49m\u001b[38;5;241;43m.\u001b[39;49m\u001b[43mdraw\u001b[49m\u001b[43m(\u001b[49m\u001b[38;5;28;43mself\u001b[39;49m\u001b[43m)\u001b[49m\n\u001b[0;32m    509\u001b[0m     mpl\u001b[38;5;241m.\u001b[39mimage\u001b[38;5;241m.\u001b[39mimsave(\n\u001b[0;32m    510\u001b[0m         filename_or_obj, \u001b[38;5;28mself\u001b[39m\u001b[38;5;241m.\u001b[39mbuffer_rgba(), \u001b[38;5;28mformat\u001b[39m\u001b[38;5;241m=\u001b[39m\u001b[38;5;124m\"\u001b[39m\u001b[38;5;124mpng\u001b[39m\u001b[38;5;124m\"\u001b[39m, origin\u001b[38;5;241m=\u001b[39m\u001b[38;5;124m\"\u001b[39m\u001b[38;5;124mupper\u001b[39m\u001b[38;5;124m\"\u001b[39m,\n\u001b[0;32m    511\u001b[0m         dpi\u001b[38;5;241m=\u001b[39m\u001b[38;5;28mself\u001b[39m\u001b[38;5;241m.\u001b[39mfigure\u001b[38;5;241m.\u001b[39mdpi, metadata\u001b[38;5;241m=\u001b[39mmetadata, pil_kwargs\u001b[38;5;241m=\u001b[39mpil_kwargs)\n",
      "File \u001b[1;32m~\\miniconda3\\envs\\info615\\lib\\site-packages\\matplotlib\\backends\\backend_agg.py:401\u001b[0m, in \u001b[0;36mFigureCanvasAgg.draw\u001b[1;34m(self)\u001b[0m\n\u001b[0;32m    399\u001b[0m \u001b[38;5;28;01mdef\u001b[39;00m \u001b[38;5;21mdraw\u001b[39m(\u001b[38;5;28mself\u001b[39m):\n\u001b[0;32m    400\u001b[0m     \u001b[38;5;66;03m# docstring inherited\u001b[39;00m\n\u001b[1;32m--> 401\u001b[0m     \u001b[38;5;28mself\u001b[39m\u001b[38;5;241m.\u001b[39mrenderer \u001b[38;5;241m=\u001b[39m \u001b[38;5;28;43mself\u001b[39;49m\u001b[38;5;241;43m.\u001b[39;49m\u001b[43mget_renderer\u001b[49m\u001b[43m(\u001b[49m\u001b[43mcleared\u001b[49m\u001b[38;5;241;43m=\u001b[39;49m\u001b[38;5;28;43;01mTrue\u001b[39;49;00m\u001b[43m)\u001b[49m\n\u001b[0;32m    402\u001b[0m     \u001b[38;5;66;03m# Acquire a lock on the shared font cache.\u001b[39;00m\n\u001b[0;32m    403\u001b[0m     \u001b[38;5;28;01mwith\u001b[39;00m RendererAgg\u001b[38;5;241m.\u001b[39mlock, \\\n\u001b[0;32m    404\u001b[0m          (\u001b[38;5;28mself\u001b[39m\u001b[38;5;241m.\u001b[39mtoolbar\u001b[38;5;241m.\u001b[39m_wait_cursor_for_draw_cm() \u001b[38;5;28;01mif\u001b[39;00m \u001b[38;5;28mself\u001b[39m\u001b[38;5;241m.\u001b[39mtoolbar\n\u001b[0;32m    405\u001b[0m           \u001b[38;5;28;01melse\u001b[39;00m nullcontext()):\n",
      "File \u001b[1;32m~\\miniconda3\\envs\\info615\\lib\\site-packages\\matplotlib\\backends\\backend_agg.py:417\u001b[0m, in \u001b[0;36mFigureCanvasAgg.get_renderer\u001b[1;34m(self, cleared)\u001b[0m\n\u001b[0;32m    414\u001b[0m reuse_renderer \u001b[38;5;241m=\u001b[39m (\u001b[38;5;28mhasattr\u001b[39m(\u001b[38;5;28mself\u001b[39m, \u001b[38;5;124m\"\u001b[39m\u001b[38;5;124mrenderer\u001b[39m\u001b[38;5;124m\"\u001b[39m)\n\u001b[0;32m    415\u001b[0m                   \u001b[38;5;129;01mand\u001b[39;00m \u001b[38;5;28mgetattr\u001b[39m(\u001b[38;5;28mself\u001b[39m, \u001b[38;5;124m\"\u001b[39m\u001b[38;5;124m_lastKey\u001b[39m\u001b[38;5;124m\"\u001b[39m, \u001b[38;5;28;01mNone\u001b[39;00m) \u001b[38;5;241m==\u001b[39m key)\n\u001b[0;32m    416\u001b[0m \u001b[38;5;28;01mif\u001b[39;00m \u001b[38;5;129;01mnot\u001b[39;00m reuse_renderer:\n\u001b[1;32m--> 417\u001b[0m     \u001b[38;5;28mself\u001b[39m\u001b[38;5;241m.\u001b[39mrenderer \u001b[38;5;241m=\u001b[39m \u001b[43mRendererAgg\u001b[49m\u001b[43m(\u001b[49m\u001b[43mw\u001b[49m\u001b[43m,\u001b[49m\u001b[43m \u001b[49m\u001b[43mh\u001b[49m\u001b[43m,\u001b[49m\u001b[43m \u001b[49m\u001b[38;5;28;43mself\u001b[39;49m\u001b[38;5;241;43m.\u001b[39;49m\u001b[43mfigure\u001b[49m\u001b[38;5;241;43m.\u001b[39;49m\u001b[43mdpi\u001b[49m\u001b[43m)\u001b[49m\n\u001b[0;32m    418\u001b[0m     \u001b[38;5;28mself\u001b[39m\u001b[38;5;241m.\u001b[39m_lastKey \u001b[38;5;241m=\u001b[39m key\n\u001b[0;32m    419\u001b[0m \u001b[38;5;28;01melif\u001b[39;00m cleared:\n",
      "File \u001b[1;32m~\\miniconda3\\envs\\info615\\lib\\site-packages\\matplotlib\\backends\\backend_agg.py:91\u001b[0m, in \u001b[0;36mRendererAgg.__init__\u001b[1;34m(self, width, height, dpi)\u001b[0m\n\u001b[0;32m     89\u001b[0m \u001b[38;5;28mself\u001b[39m\u001b[38;5;241m.\u001b[39mwidth \u001b[38;5;241m=\u001b[39m width\n\u001b[0;32m     90\u001b[0m \u001b[38;5;28mself\u001b[39m\u001b[38;5;241m.\u001b[39mheight \u001b[38;5;241m=\u001b[39m height\n\u001b[1;32m---> 91\u001b[0m \u001b[38;5;28mself\u001b[39m\u001b[38;5;241m.\u001b[39m_renderer \u001b[38;5;241m=\u001b[39m \u001b[43m_RendererAgg\u001b[49m\u001b[43m(\u001b[49m\u001b[38;5;28;43mint\u001b[39;49m\u001b[43m(\u001b[49m\u001b[43mwidth\u001b[49m\u001b[43m)\u001b[49m\u001b[43m,\u001b[49m\u001b[43m \u001b[49m\u001b[38;5;28;43mint\u001b[39;49m\u001b[43m(\u001b[49m\u001b[43mheight\u001b[49m\u001b[43m)\u001b[49m\u001b[43m,\u001b[49m\u001b[43m \u001b[49m\u001b[43mdpi\u001b[49m\u001b[43m)\u001b[49m\n\u001b[0;32m     92\u001b[0m \u001b[38;5;28mself\u001b[39m\u001b[38;5;241m.\u001b[39m_filter_renderers \u001b[38;5;241m=\u001b[39m []\n\u001b[0;32m     94\u001b[0m \u001b[38;5;28mself\u001b[39m\u001b[38;5;241m.\u001b[39m_update_methods()\n",
      "\u001b[1;31mValueError\u001b[0m: Image size of 68688x216 pixels is too large. It must be less than 2^16 in each direction."
     ]
    },
    {
     "data": {
      "text/plain": [
       "<Figure size 68688x216 with 318 Axes>"
      ]
     },
     "metadata": {
      "needs_background": "light"
     },
     "output_type": "display_data"
    }
   ],
   "source": [
    "g = sns.FacetGrid(data.sample(1000), col=\"Sample Time\")\n",
    "g.map(sns.scatterplot, \"Residual Free Chlorine (mg/L)\", \"Turbidity (NTU)\")"
   ]
  },
  {
   "cell_type": "code",
   "execution_count": 54,
   "id": "f6fad2ca-28a5-4b26-9089-888f463945fd",
   "metadata": {},
   "outputs": [],
   "source": [
    "geom1 = gpd.points_from_xy(joined_data1['X - Coordinate'], joined_data1['Y - Coordinate'])"
   ]
  },
  {
   "cell_type": "code",
   "execution_count": 55,
   "id": "986d046d-3752-4452-ae2c-1be58e092b8a",
   "metadata": {
    "tags": []
   },
   "outputs": [],
   "source": [
    "gdf = gpd.GeoDataFrame(joined_data1, geometry=geom1)"
   ]
  },
  {
   "cell_type": "code",
   "execution_count": 61,
   "id": "e43a04b4-477e-42ba-99de-bf1d33a05c92",
   "metadata": {
    "tags": []
   },
   "outputs": [],
   "source": [
    "gdf.crs = 2263"
   ]
  },
  {
   "cell_type": "code",
   "execution_count": 79,
   "id": "2fc1cd08-5ec1-4350-8268-7305d666f007",
   "metadata": {},
   "outputs": [
    {
     "name": "stdout",
     "output_type": "stream",
     "text": [
      "epsg:4326\n"
     ]
    }
   ],
   "source": [
    "print(gdf.crs)"
   ]
  },
  {
   "cell_type": "code",
   "execution_count": 62,
   "id": "febf25de-dffd-4b94-8cd9-9755e9e5b7fd",
   "metadata": {},
   "outputs": [],
   "source": [
    "gdf = gdf.to_crs(4326)"
   ]
  },
  {
   "cell_type": "code",
   "execution_count": 66,
   "id": "5dc600ad-924a-46d1-ba2b-77cf9ad7ffbc",
   "metadata": {},
   "outputs": [
    {
     "data": {
      "text/plain": [
       "<AxesSubplot:>"
      ]
     },
     "execution_count": 66,
     "metadata": {},
     "output_type": "execute_result"
    },
    {
     "data": {
      "image/png": "[encoded data removed]",
      "text/plain": [
       "<Figure size 432x288 with 1 Axes>"
      ]
     },
     "metadata": {
      "needs_background": "light"
     },
     "output_type": "display_data"
    }
   ],
   "source": [
    "gdf.plot(alpha=.01, markersize=1)"
   ]
  },
  {
   "cell_type": "code",
   "execution_count": 73,
   "id": "8546fa21-2048-4d3f-85b0-a8a2e8e504ea",
   "metadata": {
    "collapsed": true,
    "jupyter": {
     "outputs_hidden": true
    },
    "tags": []
   },
   "outputs": [
    {
     "ename": "SyntaxError",
     "evalue": "invalid syntax (1896562670.py, line 3)",
     "output_type": "error",
     "traceback": [
      "\u001b[1;36m  Input \u001b[1;32mIn [73]\u001b[1;36m\u001b[0m\n\u001b[1;33m    gdf['X - Coordinate']\u001b[0m\n\u001b[1;37m    ^\u001b[0m\n\u001b[1;31mSyntaxError\u001b[0m\u001b[1;31m:\u001b[0m invalid syntax\n"
     ]
    }
   ],
   "source": [
    "sns.kdeplot(\n",
    "    data=gdf\n",
    "    gdf['X - Coordinate']\n",
    "    gdf['Y - Coordinate']\n",
    "    n_levels=5,\n",
    "    shade=True,\n",
    "    alpha=.7,\n",
    "    cmap=\"Reds\",\n",
    "    bw_adjust=1\n",
    ")"
   ]
  },
  {
   "cell_type": "code",
   "execution_count": 69,
   "id": "0c769b6f-28da-4f6a-9668-6e19883cb14e",
   "metadata": {
    "collapsed": true,
    "jupyter": {
     "outputs_hidden": true
    },
    "tags": []
   },
   "outputs": [
    {
     "data": {
      "text/html": [
       "<div>\n",
       "<style scoped>\n",
       "    .dataframe tbody tr th:only-of-type {\n",
       "        vertical-align: middle;\n",
       "    }\n",
       "\n",
       "    .dataframe tbody tr th {\n",
       "        vertical-align: top;\n",
       "    }\n",
       "\n",
       "    .dataframe thead th {\n",
       "        text-align: right;\n",
       "    }\n",
       "</style>\n",
       "<table border=\"1\" class=\"dataframe\">\n",
       "  <thead>\n",
       "    <tr style=\"text-align: right;\">\n",
       "      <th></th>\n",
       "      <th>Sample Site</th>\n",
       "      <th>Sample Station (SS) - Location Description</th>\n",
       "      <th>X - Coordinate</th>\n",
       "      <th>Y - Coordinate</th>\n",
       "      <th>geometry_x</th>\n",
       "      <th>Sample Number</th>\n",
       "      <th>Sample Date</th>\n",
       "      <th>Sample Time</th>\n",
       "      <th>Sample class</th>\n",
       "      <th>Residual Free Chlorine (mg/L)</th>\n",
       "      <th>Turbidity (NTU)</th>\n",
       "      <th>Fluoride (mg/L)</th>\n",
       "      <th>Coliform (Quanti-Tray) (MPN /100mL)</th>\n",
       "      <th>E.coli(Quanti-Tray) (MPN/100mL)</th>\n",
       "      <th>geometry_y</th>\n",
       "      <th>geometry</th>\n",
       "    </tr>\n",
       "  </thead>\n",
       "  <tbody>\n",
       "    <tr>\n",
       "      <th>0</th>\n",
       "      <td>1S07</td>\n",
       "      <td>SS - Shaft 7 of City Tunnel No.1 - NE/S W 167t...</td>\n",
       "      <td>1004013</td>\n",
       "      <td>245233</td>\n",
       "      <td>None</td>\n",
       "      <td>201500023</td>\n",
       "      <td>2015-01-01</td>\n",
       "      <td>12:19</td>\n",
       "      <td>Operational</td>\n",
       "      <td>0.58</td>\n",
       "      <td>0.96</td>\n",
       "      <td>0.79</td>\n",
       "      <td>NaN</td>\n",
       "      <td>&lt;1</td>\n",
       "      <td>None</td>\n",
       "      <td>POINT (-73.92858 40.83976)</td>\n",
       "    </tr>\n",
       "    <tr>\n",
       "      <th>1</th>\n",
       "      <td>1S04</td>\n",
       "      <td>SS - Shaft 4 of City Tunnel No.1 - IFO 2780 Re...</td>\n",
       "      <td>1012568</td>\n",
       "      <td>256577</td>\n",
       "      <td>None</td>\n",
       "      <td>201500024</td>\n",
       "      <td>2015-01-01</td>\n",
       "      <td>11:15</td>\n",
       "      <td>Operational</td>\n",
       "      <td>0.71</td>\n",
       "      <td>0.94</td>\n",
       "      <td>0.80</td>\n",
       "      <td>NaN</td>\n",
       "      <td>&lt;1</td>\n",
       "      <td>None</td>\n",
       "      <td>POINT (-73.89761 40.87087)</td>\n",
       "    </tr>\n",
       "    <tr>\n",
       "      <th>2</th>\n",
       "      <td>1S03A</td>\n",
       "      <td>SS - Shaft 3A of City Tunnel No.2 - S/S E 233r...</td>\n",
       "      <td>1024721</td>\n",
       "      <td>264392</td>\n",
       "      <td>None</td>\n",
       "      <td>201500025</td>\n",
       "      <td>2015-01-01</td>\n",
       "      <td>10:09</td>\n",
       "      <td>Operational</td>\n",
       "      <td>0.79</td>\n",
       "      <td>0.93</td>\n",
       "      <td>0.79</td>\n",
       "      <td>NaN</td>\n",
       "      <td>&lt;1</td>\n",
       "      <td>None</td>\n",
       "      <td>POINT (-73.85362 40.89228)</td>\n",
       "    </tr>\n",
       "    <tr>\n",
       "      <th>3</th>\n",
       "      <td>1S03B</td>\n",
       "      <td>SS - Shaft 3B of City Tunnel No.3 - W/S Jerome...</td>\n",
       "      <td>1014949</td>\n",
       "      <td>260688</td>\n",
       "      <td>None</td>\n",
       "      <td>201500026</td>\n",
       "      <td>2015-01-01</td>\n",
       "      <td>10:41</td>\n",
       "      <td>Operational</td>\n",
       "      <td>0.77</td>\n",
       "      <td>0.93</td>\n",
       "      <td>0.80</td>\n",
       "      <td>NaN</td>\n",
       "      <td>&lt;1</td>\n",
       "      <td>None</td>\n",
       "      <td>POINT (-73.88898 40.88215)</td>\n",
       "    </tr>\n",
       "    <tr>\n",
       "      <th>4</th>\n",
       "      <td>11550</td>\n",
       "      <td>SS - IFO 1058 S/S E Gun Hill Rd, 1st SS E/O Ho...</td>\n",
       "      <td>1023792</td>\n",
       "      <td>257836</td>\n",
       "      <td>None</td>\n",
       "      <td>201500027</td>\n",
       "      <td>2015-01-01</td>\n",
       "      <td>09:38</td>\n",
       "      <td>Compliance</td>\n",
       "      <td>0.74</td>\n",
       "      <td>0.95</td>\n",
       "      <td>NaN</td>\n",
       "      <td>NaN</td>\n",
       "      <td>&lt;1</td>\n",
       "      <td>None</td>\n",
       "      <td>POINT (-73.85702 40.87429)</td>\n",
       "    </tr>\n",
       "    <tr>\n",
       "      <th>...</th>\n",
       "      <td>...</td>\n",
       "      <td>...</td>\n",
       "      <td>...</td>\n",
       "      <td>...</td>\n",
       "      <td>...</td>\n",
       "      <td>...</td>\n",
       "      <td>...</td>\n",
       "      <td>...</td>\n",
       "      <td>...</td>\n",
       "      <td>...</td>\n",
       "      <td>...</td>\n",
       "      <td>...</td>\n",
       "      <td>...</td>\n",
       "      <td>...</td>\n",
       "      <td>...</td>\n",
       "      <td>...</td>\n",
       "    </tr>\n",
       "    <tr>\n",
       "      <th>110007</th>\n",
       "      <td>40200</td>\n",
       "      <td>SS - S/S 19th Ave, BTW 41st &amp; Steinway Sts, IF...</td>\n",
       "      <td>1012206</td>\n",
       "      <td>222705</td>\n",
       "      <td>None</td>\n",
       "      <td>202203571</td>\n",
       "      <td>2022-01-31</td>\n",
       "      <td>12:28</td>\n",
       "      <td>Operational</td>\n",
       "      <td>0.38</td>\n",
       "      <td>0.88</td>\n",
       "      <td>NaN</td>\n",
       "      <td>NaN</td>\n",
       "      <td>&lt;1</td>\n",
       "      <td>None</td>\n",
       "      <td>POINT (-73.89906 40.77791)</td>\n",
       "    </tr>\n",
       "    <tr>\n",
       "      <th>110008</th>\n",
       "      <td>40250</td>\n",
       "      <td>SS - IFO 22-26 W/S Steinway St, 2nd SS S/O Dit...</td>\n",
       "      <td>1010037</td>\n",
       "      <td>220644</td>\n",
       "      <td>None</td>\n",
       "      <td>202203572</td>\n",
       "      <td>2022-01-31</td>\n",
       "      <td>12:03</td>\n",
       "      <td>Compliance</td>\n",
       "      <td>0.51</td>\n",
       "      <td>0.89</td>\n",
       "      <td>NaN</td>\n",
       "      <td>NaN</td>\n",
       "      <td>&lt;1</td>\n",
       "      <td>None</td>\n",
       "      <td>POINT (-73.90690 40.77226)</td>\n",
       "    </tr>\n",
       "    <tr>\n",
       "      <th>110009</th>\n",
       "      <td>47150</td>\n",
       "      <td>SS - IFO 147-19 N/S 7th Ave, 2nd SS W/O 149th ...</td>\n",
       "      <td>1033893</td>\n",
       "      <td>228531</td>\n",
       "      <td>None</td>\n",
       "      <td>202203573</td>\n",
       "      <td>2022-01-31</td>\n",
       "      <td>08:39</td>\n",
       "      <td>Compliance</td>\n",
       "      <td>0.04</td>\n",
       "      <td>0.79</td>\n",
       "      <td>NaN</td>\n",
       "      <td>NaN</td>\n",
       "      <td>&lt;1</td>\n",
       "      <td>None</td>\n",
       "      <td>POINT (-73.82071 40.79380)</td>\n",
       "    </tr>\n",
       "    <tr>\n",
       "      <th>110010</th>\n",
       "      <td>20900</td>\n",
       "      <td>SS - S/S Sands St. BTW Gold St. and Manhattan ...</td>\n",
       "      <td>988841</td>\n",
       "      <td>194197</td>\n",
       "      <td>None</td>\n",
       "      <td>202203576</td>\n",
       "      <td>2022-01-31</td>\n",
       "      <td>11:13</td>\n",
       "      <td>Operational</td>\n",
       "      <td>0.22</td>\n",
       "      <td>0.86</td>\n",
       "      <td>NaN</td>\n",
       "      <td>NaN</td>\n",
       "      <td>&lt;1</td>\n",
       "      <td>None</td>\n",
       "      <td>POINT (-73.98344 40.69970)</td>\n",
       "    </tr>\n",
       "    <tr>\n",
       "      <th>110011</th>\n",
       "      <td>27350</td>\n",
       "      <td>SS - OPP 1035 S/S Clarkson Ave, 1st SS W/O E 9...</td>\n",
       "      <td>1005520</td>\n",
       "      <td>179355</td>\n",
       "      <td>None</td>\n",
       "      <td>202203577</td>\n",
       "      <td>2022-01-31</td>\n",
       "      <td>09:05</td>\n",
       "      <td>Compliance</td>\n",
       "      <td>0.25</td>\n",
       "      <td>0.86</td>\n",
       "      <td>NaN</td>\n",
       "      <td>NaN</td>\n",
       "      <td>&lt;1</td>\n",
       "      <td>None</td>\n",
       "      <td>POINT (-73.92334 40.65894)</td>\n",
       "    </tr>\n",
       "  </tbody>\n",
       "</table>\n",
       "<p>110012 rows × 16 columns</p>\n",
       "</div>"
      ],
      "text/plain": [
       "       Sample Site         Sample Station (SS) - Location Description  \\\n",
       "0             1S07  SS - Shaft 7 of City Tunnel No.1 - NE/S W 167t...   \n",
       "1             1S04  SS - Shaft 4 of City Tunnel No.1 - IFO 2780 Re...   \n",
       "2            1S03A  SS - Shaft 3A of City Tunnel No.2 - S/S E 233r...   \n",
       "3            1S03B  SS - Shaft 3B of City Tunnel No.3 - W/S Jerome...   \n",
       "4            11550  SS - IFO 1058 S/S E Gun Hill Rd, 1st SS E/O Ho...   \n",
       "...            ...                                                ...   \n",
       "110007       40200  SS - S/S 19th Ave, BTW 41st & Steinway Sts, IF...   \n",
       "110008       40250  SS - IFO 22-26 W/S Steinway St, 2nd SS S/O Dit...   \n",
       "110009       47150  SS - IFO 147-19 N/S 7th Ave, 2nd SS W/O 149th ...   \n",
       "110010       20900  SS - S/S Sands St. BTW Gold St. and Manhattan ...   \n",
       "110011       27350  SS - OPP 1035 S/S Clarkson Ave, 1st SS W/O E 9...   \n",
       "\n",
       "       X - Coordinate Y - Coordinate geometry_x Sample Number Sample Date  \\\n",
       "0             1004013         245233       None     201500023  2015-01-01   \n",
       "1             1012568         256577       None     201500024  2015-01-01   \n",
       "2             1024721         264392       None     201500025  2015-01-01   \n",
       "3             1014949         260688       None     201500026  2015-01-01   \n",
       "4             1023792         257836       None     201500027  2015-01-01   \n",
       "...               ...            ...        ...           ...         ...   \n",
       "110007        1012206         222705       None     202203571  2022-01-31   \n",
       "110008        1010037         220644       None     202203572  2022-01-31   \n",
       "110009        1033893         228531       None     202203573  2022-01-31   \n",
       "110010         988841         194197       None     202203576  2022-01-31   \n",
       "110011        1005520         179355       None     202203577  2022-01-31   \n",
       "\n",
       "       Sample Time Sample class  Residual Free Chlorine (mg/L)  \\\n",
       "0            12:19  Operational                           0.58   \n",
       "1            11:15  Operational                           0.71   \n",
       "2            10:09  Operational                           0.79   \n",
       "3            10:41  Operational                           0.77   \n",
       "4            09:38   Compliance                           0.74   \n",
       "...            ...          ...                            ...   \n",
       "110007       12:28  Operational                           0.38   \n",
       "110008       12:03   Compliance                           0.51   \n",
       "110009       08:39   Compliance                           0.04   \n",
       "110010       11:13  Operational                           0.22   \n",
       "110011       09:05   Compliance                           0.25   \n",
       "\n",
       "        Turbidity (NTU)  Fluoride (mg/L)  Coliform (Quanti-Tray) (MPN /100mL)  \\\n",
       "0                  0.96             0.79                                  NaN   \n",
       "1                  0.94             0.80                                  NaN   \n",
       "2                  0.93             0.79                                  NaN   \n",
       "3                  0.93             0.80                                  NaN   \n",
       "4                  0.95              NaN                                  NaN   \n",
       "...                 ...              ...                                  ...   \n",
       "110007             0.88              NaN                                  NaN   \n",
       "110008             0.89              NaN                                  NaN   \n",
       "110009             0.79              NaN                                  NaN   \n",
       "110010             0.86              NaN                                  NaN   \n",
       "110011             0.86              NaN                                  NaN   \n",
       "\n",
       "       E.coli(Quanti-Tray) (MPN/100mL) geometry_y                    geometry  \n",
       "0                                   <1       None  POINT (-73.92858 40.83976)  \n",
       "1                                   <1       None  POINT (-73.89761 40.87087)  \n",
       "2                                   <1       None  POINT (-73.85362 40.89228)  \n",
       "3                                   <1       None  POINT (-73.88898 40.88215)  \n",
       "4                                   <1       None  POINT (-73.85702 40.87429)  \n",
       "...                                ...        ...                         ...  \n",
       "110007                              <1       None  POINT (-73.89906 40.77791)  \n",
       "110008                              <1       None  POINT (-73.90690 40.77226)  \n",
       "110009                              <1       None  POINT (-73.82071 40.79380)  \n",
       "110010                              <1       None  POINT (-73.98344 40.69970)  \n",
       "110011                              <1       None  POINT (-73.92334 40.65894)  \n",
       "\n",
       "[110012 rows x 16 columns]"
      ]
     },
     "execution_count": 69,
     "metadata": {},
     "output_type": "execute_result"
    }
   ],
   "source": [
    "gdf"
   ]
  },
  {
   "cell_type": "code",
   "execution_count": 76,
   "id": "4fbfa0a0-035b-47b0-9a80-f8e13381b137",
   "metadata": {},
   "outputs": [],
   "source": [
    "url = \"https://data.cityofnewyork.us/api/geospatial/tqmj-j8zm?method=export&format=GeoJSON\""
   ]
  },
  {
   "cell_type": "code",
   "execution_count": 77,
   "id": "5dfee418-0959-4276-95af-32dd18e849b9",
   "metadata": {},
   "outputs": [],
   "source": [
    "boros = gpd.read_file(url)"
   ]
  },
  {
   "cell_type": "code",
   "execution_count": 78,
   "id": "1d006bc1-0414-46d9-a89b-1eeed8f3c103",
   "metadata": {},
   "outputs": [
    {
     "name": "stdout",
     "output_type": "stream",
     "text": [
      "epsg:4326\n"
     ]
    }
   ],
   "source": [
    "print(boros.crs)"
   ]
  },
  {
   "cell_type": "code",
   "execution_count": 85,
   "id": "44e1e92d-9e9f-4823-9027-57fb661c398b",
   "metadata": {},
   "outputs": [
    {
     "data": {
      "text/plain": [
       "<AxesSubplot:>"
      ]
     },
     "execution_count": 85,
     "metadata": {},
     "output_type": "execute_result"
    },
    {
     "data": {
      "image/png": "[encoded data removed]",
      "text/plain": [
       "<Figure size 432x288 with 1 Axes>"
      ]
     },
     "metadata": {
      "needs_background": "light"
     },
     "output_type": "display_data"
    },
    {
     "data": {
      "image/png": "[encoded data removed]",
      "text/plain": [
       "<Figure size 432x288 with 1 Axes>"
      ]
     },
     "metadata": {
      "needs_background": "light"
     },
     "output_type": "display_data"
    }
   ],
   "source": [
    "boros.plot(column=\"boro_name\", alpha=.5, edgecolor='black',\n",
    "           linewidth=2, legend=True)\n",
    "gdf.plot(alpha=.09, color='red', markersize=1)"
   ]
  },
  {
   "cell_type": "code",
   "execution_count": 88,
   "id": "64a89ad3-79d2-44bb-8c3b-a07885ecca86",
   "metadata": {},
   "outputs": [],
   "source": [
    "gdf.to_csv('spatial_water.csv')"
   ]
  },
  {
   "cell_type": "code",
   "execution_count": null,
   "id": "10884690-a4e3-41dd-b6b4-29320ebba9b6",
   "metadata": {},
   "outputs": [],
   "source": []
  }
 ],
 "metadata": {
  "kernelspec": {
   "display_name": "info615",
   "language": "python",
   "name": "info615"
  },
  "language_info": {
   "codemirror_mode": {
    "name": "ipython",
    "version": 3
   },
   "file_extension": ".py",
   "mimetype": "text/x-python",
   "name": "python",
   "nbconvert_exporter": "python",
   "pygments_lexer": "ipython3",
   "version": "3.8.12"
  }
 },
 "nbformat": 4,
 "nbformat_minor": 5
}
